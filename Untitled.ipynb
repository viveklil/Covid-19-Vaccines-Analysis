{
 "cells": [
  {
   "cell_type": "code",
   "execution_count": 2,
   "id": "4474b8dc",
   "metadata": {},
   "outputs": [],
   "source": [
    "import pandas as pd\n",
    "import numpy as np\n",
    "import matplotlib.pyplot as plt\n",
    "import seaborn as sns\n",
    "%matplotlib inline"
   ]
  },
  {
   "cell_type": "code",
   "execution_count": 18,
   "id": "b6aeabac",
   "metadata": {},
   "outputs": [],
   "source": [
    "df = pd.read_csv('country_vaccinations.csv')"
   ]
  },
  {
   "cell_type": "code",
   "execution_count": 5,
   "id": "2bf8a1d8",
   "metadata": {},
   "outputs": [
    {
     "data": {
      "text/html": [
       "<div>\n",
       "<style scoped>\n",
       "    .dataframe tbody tr th:only-of-type {\n",
       "        vertical-align: middle;\n",
       "    }\n",
       "\n",
       "    .dataframe tbody tr th {\n",
       "        vertical-align: top;\n",
       "    }\n",
       "\n",
       "    .dataframe thead th {\n",
       "        text-align: right;\n",
       "    }\n",
       "</style>\n",
       "<table border=\"1\" class=\"dataframe\">\n",
       "  <thead>\n",
       "    <tr style=\"text-align: right;\">\n",
       "      <th></th>\n",
       "      <th>country</th>\n",
       "      <th>iso_code</th>\n",
       "      <th>date</th>\n",
       "      <th>total_vaccinations</th>\n",
       "      <th>people_vaccinated</th>\n",
       "      <th>people_fully_vaccinated</th>\n",
       "      <th>daily_vaccinations_raw</th>\n",
       "      <th>daily_vaccinations</th>\n",
       "      <th>total_vaccinations_per_hundred</th>\n",
       "      <th>people_vaccinated_per_hundred</th>\n",
       "      <th>people_fully_vaccinated_per_hundred</th>\n",
       "      <th>daily_vaccinations_per_million</th>\n",
       "      <th>vaccines</th>\n",
       "      <th>source_name</th>\n",
       "      <th>source_website</th>\n",
       "    </tr>\n",
       "  </thead>\n",
       "  <tbody>\n",
       "    <tr>\n",
       "      <th>0</th>\n",
       "      <td>Afghanistan</td>\n",
       "      <td>AFG</td>\n",
       "      <td>2021-02-22</td>\n",
       "      <td>0.0</td>\n",
       "      <td>0.0</td>\n",
       "      <td>NaN</td>\n",
       "      <td>NaN</td>\n",
       "      <td>NaN</td>\n",
       "      <td>0.0</td>\n",
       "      <td>0.0</td>\n",
       "      <td>NaN</td>\n",
       "      <td>NaN</td>\n",
       "      <td>Johnson&amp;Johnson, Oxford/AstraZeneca, Pfizer/Bi...</td>\n",
       "      <td>World Health Organization</td>\n",
       "      <td>https://covid19.who.int/</td>\n",
       "    </tr>\n",
       "    <tr>\n",
       "      <th>1</th>\n",
       "      <td>Afghanistan</td>\n",
       "      <td>AFG</td>\n",
       "      <td>2021-02-23</td>\n",
       "      <td>NaN</td>\n",
       "      <td>NaN</td>\n",
       "      <td>NaN</td>\n",
       "      <td>NaN</td>\n",
       "      <td>1367.0</td>\n",
       "      <td>NaN</td>\n",
       "      <td>NaN</td>\n",
       "      <td>NaN</td>\n",
       "      <td>34.0</td>\n",
       "      <td>Johnson&amp;Johnson, Oxford/AstraZeneca, Pfizer/Bi...</td>\n",
       "      <td>World Health Organization</td>\n",
       "      <td>https://covid19.who.int/</td>\n",
       "    </tr>\n",
       "    <tr>\n",
       "      <th>2</th>\n",
       "      <td>Afghanistan</td>\n",
       "      <td>AFG</td>\n",
       "      <td>2021-02-24</td>\n",
       "      <td>NaN</td>\n",
       "      <td>NaN</td>\n",
       "      <td>NaN</td>\n",
       "      <td>NaN</td>\n",
       "      <td>1367.0</td>\n",
       "      <td>NaN</td>\n",
       "      <td>NaN</td>\n",
       "      <td>NaN</td>\n",
       "      <td>34.0</td>\n",
       "      <td>Johnson&amp;Johnson, Oxford/AstraZeneca, Pfizer/Bi...</td>\n",
       "      <td>World Health Organization</td>\n",
       "      <td>https://covid19.who.int/</td>\n",
       "    </tr>\n",
       "    <tr>\n",
       "      <th>3</th>\n",
       "      <td>Afghanistan</td>\n",
       "      <td>AFG</td>\n",
       "      <td>2021-02-25</td>\n",
       "      <td>NaN</td>\n",
       "      <td>NaN</td>\n",
       "      <td>NaN</td>\n",
       "      <td>NaN</td>\n",
       "      <td>1367.0</td>\n",
       "      <td>NaN</td>\n",
       "      <td>NaN</td>\n",
       "      <td>NaN</td>\n",
       "      <td>34.0</td>\n",
       "      <td>Johnson&amp;Johnson, Oxford/AstraZeneca, Pfizer/Bi...</td>\n",
       "      <td>World Health Organization</td>\n",
       "      <td>https://covid19.who.int/</td>\n",
       "    </tr>\n",
       "    <tr>\n",
       "      <th>4</th>\n",
       "      <td>Afghanistan</td>\n",
       "      <td>AFG</td>\n",
       "      <td>2021-02-26</td>\n",
       "      <td>NaN</td>\n",
       "      <td>NaN</td>\n",
       "      <td>NaN</td>\n",
       "      <td>NaN</td>\n",
       "      <td>1367.0</td>\n",
       "      <td>NaN</td>\n",
       "      <td>NaN</td>\n",
       "      <td>NaN</td>\n",
       "      <td>34.0</td>\n",
       "      <td>Johnson&amp;Johnson, Oxford/AstraZeneca, Pfizer/Bi...</td>\n",
       "      <td>World Health Organization</td>\n",
       "      <td>https://covid19.who.int/</td>\n",
       "    </tr>\n",
       "  </tbody>\n",
       "</table>\n",
       "</div>"
      ],
      "text/plain": [
       "       country iso_code        date  total_vaccinations  people_vaccinated  \\\n",
       "0  Afghanistan      AFG  2021-02-22                 0.0                0.0   \n",
       "1  Afghanistan      AFG  2021-02-23                 NaN                NaN   \n",
       "2  Afghanistan      AFG  2021-02-24                 NaN                NaN   \n",
       "3  Afghanistan      AFG  2021-02-25                 NaN                NaN   \n",
       "4  Afghanistan      AFG  2021-02-26                 NaN                NaN   \n",
       "\n",
       "   people_fully_vaccinated  daily_vaccinations_raw  daily_vaccinations  \\\n",
       "0                      NaN                     NaN                 NaN   \n",
       "1                      NaN                     NaN              1367.0   \n",
       "2                      NaN                     NaN              1367.0   \n",
       "3                      NaN                     NaN              1367.0   \n",
       "4                      NaN                     NaN              1367.0   \n",
       "\n",
       "   total_vaccinations_per_hundred  people_vaccinated_per_hundred  \\\n",
       "0                             0.0                            0.0   \n",
       "1                             NaN                            NaN   \n",
       "2                             NaN                            NaN   \n",
       "3                             NaN                            NaN   \n",
       "4                             NaN                            NaN   \n",
       "\n",
       "   people_fully_vaccinated_per_hundred  daily_vaccinations_per_million  \\\n",
       "0                                  NaN                             NaN   \n",
       "1                                  NaN                            34.0   \n",
       "2                                  NaN                            34.0   \n",
       "3                                  NaN                            34.0   \n",
       "4                                  NaN                            34.0   \n",
       "\n",
       "                                            vaccines  \\\n",
       "0  Johnson&Johnson, Oxford/AstraZeneca, Pfizer/Bi...   \n",
       "1  Johnson&Johnson, Oxford/AstraZeneca, Pfizer/Bi...   \n",
       "2  Johnson&Johnson, Oxford/AstraZeneca, Pfizer/Bi...   \n",
       "3  Johnson&Johnson, Oxford/AstraZeneca, Pfizer/Bi...   \n",
       "4  Johnson&Johnson, Oxford/AstraZeneca, Pfizer/Bi...   \n",
       "\n",
       "                 source_name            source_website  \n",
       "0  World Health Organization  https://covid19.who.int/  \n",
       "1  World Health Organization  https://covid19.who.int/  \n",
       "2  World Health Organization  https://covid19.who.int/  \n",
       "3  World Health Organization  https://covid19.who.int/  \n",
       "4  World Health Organization  https://covid19.who.int/  "
      ]
     },
     "execution_count": 5,
     "metadata": {},
     "output_type": "execute_result"
    }
   ],
   "source": [
    "df.head(5)"
   ]
  },
  {
   "cell_type": "code",
   "execution_count": 6,
   "id": "655b78a7",
   "metadata": {},
   "outputs": [
    {
     "data": {
      "text/plain": [
       "(86512, 15)"
      ]
     },
     "execution_count": 6,
     "metadata": {},
     "output_type": "execute_result"
    }
   ],
   "source": [
    "df.shape"
   ]
  },
  {
   "cell_type": "code",
   "execution_count": 7,
   "id": "5f6ac8c7",
   "metadata": {},
   "outputs": [
    {
     "name": "stdout",
     "output_type": "stream",
     "text": [
      "<class 'pandas.core.frame.DataFrame'>\n",
      "RangeIndex: 86512 entries, 0 to 86511\n",
      "Data columns (total 15 columns):\n",
      " #   Column                               Non-Null Count  Dtype  \n",
      "---  ------                               --------------  -----  \n",
      " 0   country                              86512 non-null  object \n",
      " 1   iso_code                             86512 non-null  object \n",
      " 2   date                                 86512 non-null  object \n",
      " 3   total_vaccinations                   43607 non-null  float64\n",
      " 4   people_vaccinated                    41294 non-null  float64\n",
      " 5   people_fully_vaccinated              38802 non-null  float64\n",
      " 6   daily_vaccinations_raw               35362 non-null  float64\n",
      " 7   daily_vaccinations                   86213 non-null  float64\n",
      " 8   total_vaccinations_per_hundred       43607 non-null  float64\n",
      " 9   people_vaccinated_per_hundred        41294 non-null  float64\n",
      " 10  people_fully_vaccinated_per_hundred  38802 non-null  float64\n",
      " 11  daily_vaccinations_per_million       86213 non-null  float64\n",
      " 12  vaccines                             86512 non-null  object \n",
      " 13  source_name                          86512 non-null  object \n",
      " 14  source_website                       86512 non-null  object \n",
      "dtypes: float64(9), object(6)\n",
      "memory usage: 9.9+ MB\n"
     ]
    }
   ],
   "source": [
    "df.info()"
   ]
  },
  {
   "cell_type": "code",
   "execution_count": 8,
   "id": "6147eca7",
   "metadata": {},
   "outputs": [
    {
     "data": {
      "text/html": [
       "<div>\n",
       "<style scoped>\n",
       "    .dataframe tbody tr th:only-of-type {\n",
       "        vertical-align: middle;\n",
       "    }\n",
       "\n",
       "    .dataframe tbody tr th {\n",
       "        vertical-align: top;\n",
       "    }\n",
       "\n",
       "    .dataframe thead th {\n",
       "        text-align: right;\n",
       "    }\n",
       "</style>\n",
       "<table border=\"1\" class=\"dataframe\">\n",
       "  <thead>\n",
       "    <tr style=\"text-align: right;\">\n",
       "      <th></th>\n",
       "      <th>total_vaccinations</th>\n",
       "      <th>people_vaccinated</th>\n",
       "      <th>people_fully_vaccinated</th>\n",
       "      <th>daily_vaccinations_raw</th>\n",
       "      <th>daily_vaccinations</th>\n",
       "      <th>total_vaccinations_per_hundred</th>\n",
       "      <th>people_vaccinated_per_hundred</th>\n",
       "      <th>people_fully_vaccinated_per_hundred</th>\n",
       "      <th>daily_vaccinations_per_million</th>\n",
       "    </tr>\n",
       "  </thead>\n",
       "  <tbody>\n",
       "    <tr>\n",
       "      <th>count</th>\n",
       "      <td>4.360700e+04</td>\n",
       "      <td>4.129400e+04</td>\n",
       "      <td>3.880200e+04</td>\n",
       "      <td>3.536200e+04</td>\n",
       "      <td>8.621300e+04</td>\n",
       "      <td>43607.000000</td>\n",
       "      <td>41294.000000</td>\n",
       "      <td>38802.000000</td>\n",
       "      <td>86213.000000</td>\n",
       "    </tr>\n",
       "    <tr>\n",
       "      <th>mean</th>\n",
       "      <td>4.592964e+07</td>\n",
       "      <td>1.770508e+07</td>\n",
       "      <td>1.413830e+07</td>\n",
       "      <td>2.705996e+05</td>\n",
       "      <td>1.313055e+05</td>\n",
       "      <td>80.188543</td>\n",
       "      <td>40.927317</td>\n",
       "      <td>35.523243</td>\n",
       "      <td>3257.049157</td>\n",
       "    </tr>\n",
       "    <tr>\n",
       "      <th>std</th>\n",
       "      <td>2.246004e+08</td>\n",
       "      <td>7.078731e+07</td>\n",
       "      <td>5.713920e+07</td>\n",
       "      <td>1.212427e+06</td>\n",
       "      <td>7.682388e+05</td>\n",
       "      <td>67.913577</td>\n",
       "      <td>29.290759</td>\n",
       "      <td>28.376252</td>\n",
       "      <td>3934.312440</td>\n",
       "    </tr>\n",
       "    <tr>\n",
       "      <th>min</th>\n",
       "      <td>0.000000e+00</td>\n",
       "      <td>0.000000e+00</td>\n",
       "      <td>1.000000e+00</td>\n",
       "      <td>0.000000e+00</td>\n",
       "      <td>0.000000e+00</td>\n",
       "      <td>0.000000</td>\n",
       "      <td>0.000000</td>\n",
       "      <td>0.000000</td>\n",
       "      <td>0.000000</td>\n",
       "    </tr>\n",
       "    <tr>\n",
       "      <th>25%</th>\n",
       "      <td>5.264100e+05</td>\n",
       "      <td>3.494642e+05</td>\n",
       "      <td>2.439622e+05</td>\n",
       "      <td>4.668000e+03</td>\n",
       "      <td>9.000000e+02</td>\n",
       "      <td>16.050000</td>\n",
       "      <td>11.370000</td>\n",
       "      <td>7.020000</td>\n",
       "      <td>636.000000</td>\n",
       "    </tr>\n",
       "    <tr>\n",
       "      <th>50%</th>\n",
       "      <td>3.590096e+06</td>\n",
       "      <td>2.187310e+06</td>\n",
       "      <td>1.722140e+06</td>\n",
       "      <td>2.530900e+04</td>\n",
       "      <td>7.343000e+03</td>\n",
       "      <td>67.520000</td>\n",
       "      <td>41.435000</td>\n",
       "      <td>31.750000</td>\n",
       "      <td>2050.000000</td>\n",
       "    </tr>\n",
       "    <tr>\n",
       "      <th>75%</th>\n",
       "      <td>1.701230e+07</td>\n",
       "      <td>9.152520e+06</td>\n",
       "      <td>7.559870e+06</td>\n",
       "      <td>1.234925e+05</td>\n",
       "      <td>4.409800e+04</td>\n",
       "      <td>132.735000</td>\n",
       "      <td>67.910000</td>\n",
       "      <td>62.080000</td>\n",
       "      <td>4682.000000</td>\n",
       "    </tr>\n",
       "    <tr>\n",
       "      <th>max</th>\n",
       "      <td>3.263129e+09</td>\n",
       "      <td>1.275541e+09</td>\n",
       "      <td>1.240777e+09</td>\n",
       "      <td>2.474100e+07</td>\n",
       "      <td>2.242429e+07</td>\n",
       "      <td>345.370000</td>\n",
       "      <td>124.760000</td>\n",
       "      <td>122.370000</td>\n",
       "      <td>117497.000000</td>\n",
       "    </tr>\n",
       "  </tbody>\n",
       "</table>\n",
       "</div>"
      ],
      "text/plain": [
       "       total_vaccinations  people_vaccinated  people_fully_vaccinated  \\\n",
       "count        4.360700e+04       4.129400e+04             3.880200e+04   \n",
       "mean         4.592964e+07       1.770508e+07             1.413830e+07   \n",
       "std          2.246004e+08       7.078731e+07             5.713920e+07   \n",
       "min          0.000000e+00       0.000000e+00             1.000000e+00   \n",
       "25%          5.264100e+05       3.494642e+05             2.439622e+05   \n",
       "50%          3.590096e+06       2.187310e+06             1.722140e+06   \n",
       "75%          1.701230e+07       9.152520e+06             7.559870e+06   \n",
       "max          3.263129e+09       1.275541e+09             1.240777e+09   \n",
       "\n",
       "       daily_vaccinations_raw  daily_vaccinations  \\\n",
       "count            3.536200e+04        8.621300e+04   \n",
       "mean             2.705996e+05        1.313055e+05   \n",
       "std              1.212427e+06        7.682388e+05   \n",
       "min              0.000000e+00        0.000000e+00   \n",
       "25%              4.668000e+03        9.000000e+02   \n",
       "50%              2.530900e+04        7.343000e+03   \n",
       "75%              1.234925e+05        4.409800e+04   \n",
       "max              2.474100e+07        2.242429e+07   \n",
       "\n",
       "       total_vaccinations_per_hundred  people_vaccinated_per_hundred  \\\n",
       "count                    43607.000000                   41294.000000   \n",
       "mean                        80.188543                      40.927317   \n",
       "std                         67.913577                      29.290759   \n",
       "min                          0.000000                       0.000000   \n",
       "25%                         16.050000                      11.370000   \n",
       "50%                         67.520000                      41.435000   \n",
       "75%                        132.735000                      67.910000   \n",
       "max                        345.370000                     124.760000   \n",
       "\n",
       "       people_fully_vaccinated_per_hundred  daily_vaccinations_per_million  \n",
       "count                         38802.000000                    86213.000000  \n",
       "mean                             35.523243                     3257.049157  \n",
       "std                              28.376252                     3934.312440  \n",
       "min                               0.000000                        0.000000  \n",
       "25%                               7.020000                      636.000000  \n",
       "50%                              31.750000                     2050.000000  \n",
       "75%                              62.080000                     4682.000000  \n",
       "max                             122.370000                   117497.000000  "
      ]
     },
     "execution_count": 8,
     "metadata": {},
     "output_type": "execute_result"
    }
   ],
   "source": [
    "df.describe()"
   ]
  },
  {
   "cell_type": "code",
   "execution_count": 9,
   "id": "3d27d942",
   "metadata": {},
   "outputs": [
    {
     "data": {
      "text/plain": [
       "country                                    0\n",
       "iso_code                                   0\n",
       "date                                       0\n",
       "total_vaccinations                     42905\n",
       "people_vaccinated                      45218\n",
       "people_fully_vaccinated                47710\n",
       "daily_vaccinations_raw                 51150\n",
       "daily_vaccinations                       299\n",
       "total_vaccinations_per_hundred         42905\n",
       "people_vaccinated_per_hundred          45218\n",
       "people_fully_vaccinated_per_hundred    47710\n",
       "daily_vaccinations_per_million           299\n",
       "vaccines                                   0\n",
       "source_name                                0\n",
       "source_website                             0\n",
       "dtype: int64"
      ]
     },
     "execution_count": 9,
     "metadata": {},
     "output_type": "execute_result"
    }
   ],
   "source": [
    "df.isnull().sum()"
   ]
  },
  {
   "cell_type": "code",
   "execution_count": 10,
   "id": "62f89d5f",
   "metadata": {},
   "outputs": [
    {
     "data": {
      "text/plain": [
       "0"
      ]
     },
     "execution_count": 10,
     "metadata": {},
     "output_type": "execute_result"
    }
   ],
   "source": [
    "df.duplicated().sum()"
   ]
  },
  {
   "cell_type": "code",
   "execution_count": 21,
   "id": "5add2901",
   "metadata": {},
   "outputs": [
    {
     "data": {
      "text/plain": [
       "Norway                             482\n",
       "Latvia                             480\n",
       "Denmark                            476\n",
       "United States                      471\n",
       "Russia                             470\n",
       "                                  ... \n",
       "Bonaire Sint Eustatius and Saba    146\n",
       "Tokelau                            114\n",
       "Saint Helena                        92\n",
       "Pitcairn                            85\n",
       "Falkland Islands                    67\n",
       "Name: country, Length: 223, dtype: int64"
      ]
     },
     "execution_count": 21,
     "metadata": {},
     "output_type": "execute_result"
    }
   ],
   "source": [
    "df['country'].value_counts()"
   ]
  },
  {
   "cell_type": "code",
   "execution_count": 23,
   "id": "9d4b7701",
   "metadata": {},
   "outputs": [
    {
     "data": {
      "text/plain": [
       "Johnson&Johnson, Moderna, Oxford/AstraZeneca, Pfizer/BioNTech                     7608\n",
       "Oxford/AstraZeneca                                                                6022\n",
       "Oxford/AstraZeneca, Pfizer/BioNTech                                               4629\n",
       "Moderna, Oxford/AstraZeneca, Pfizer/BioNTech                                      4491\n",
       "Johnson&Johnson, Moderna, Novavax, Oxford/AstraZeneca, Pfizer/BioNTech            3564\n",
       "                                                                                  ... \n",
       "Johnson&Johnson, Oxford/AstraZeneca, Sinovac                                       312\n",
       "Moderna, Oxford/AstraZeneca, Pfizer/BioNTech, Sinovac, Sputnik V                   311\n",
       "Johnson&Johnson, Moderna                                                           251\n",
       "Johnson&Johnson, Pfizer/BioNTech, Sinopharm/Beijing                                228\n",
       "EpiVacCorona, Oxford/AstraZeneca, QazVac, Sinopharm/Beijing, Sputnik V, ZF2001     190\n",
       "Name: vaccines, Length: 84, dtype: int64"
      ]
     },
     "execution_count": 23,
     "metadata": {},
     "output_type": "execute_result"
    }
   ],
   "source": [
    "df['vaccines'].value_counts()"
   ]
  },
  {
   "cell_type": "code",
   "execution_count": 24,
   "id": "05955610",
   "metadata": {},
   "outputs": [
    {
     "name": "stderr",
     "output_type": "stream",
     "text": [
      "C:\\Users\\91831\\AppData\\Local\\Temp/ipykernel_21388/918413190.py:3: SettingWithCopyWarning: \n",
      "A value is trying to be set on a copy of a slice from a DataFrame.\n",
      "Try using .loc[row_indexer,col_indexer] = value instead\n",
      "\n",
      "See the caveats in the documentation: https://pandas.pydata.org/pandas-docs/stable/user_guide/indexing.html#returning-a-view-versus-a-copy\n",
      "  df1['date'] = pd.to_datetime(df1['date'],)\n"
     ]
    }
   ],
   "source": [
    "#Selecting the data we want to work with and changing date to date\n",
    "df1 = df[['country','date','daily_vaccinations','daily_vaccinations_per_million']]\n",
    "df1['date'] = pd.to_datetime(df1['date'],)\n",
    "df1 = df1.set_index('date')"
   ]
  },
  {
   "cell_type": "code",
   "execution_count": 25,
   "id": "d08d5277",
   "metadata": {},
   "outputs": [
    {
     "data": {
      "text/html": [
       "<div>\n",
       "<style scoped>\n",
       "    .dataframe tbody tr th:only-of-type {\n",
       "        vertical-align: middle;\n",
       "    }\n",
       "\n",
       "    .dataframe tbody tr th {\n",
       "        vertical-align: top;\n",
       "    }\n",
       "\n",
       "    .dataframe thead th {\n",
       "        text-align: right;\n",
       "    }\n",
       "</style>\n",
       "<table border=\"1\" class=\"dataframe\">\n",
       "  <thead>\n",
       "    <tr style=\"text-align: right;\">\n",
       "      <th></th>\n",
       "      <th>country</th>\n",
       "      <th>daily_vaccinations</th>\n",
       "    </tr>\n",
       "    <tr>\n",
       "      <th>date</th>\n",
       "      <th></th>\n",
       "      <th></th>\n",
       "    </tr>\n",
       "  </thead>\n",
       "  <tbody>\n",
       "    <tr>\n",
       "      <th>2021-02-22</th>\n",
       "      <td>Afghanistan</td>\n",
       "      <td>NaN</td>\n",
       "    </tr>\n",
       "    <tr>\n",
       "      <th>2021-02-23</th>\n",
       "      <td>Afghanistan</td>\n",
       "      <td>1367.0</td>\n",
       "    </tr>\n",
       "    <tr>\n",
       "      <th>2021-02-24</th>\n",
       "      <td>Afghanistan</td>\n",
       "      <td>1367.0</td>\n",
       "    </tr>\n",
       "    <tr>\n",
       "      <th>2021-02-25</th>\n",
       "      <td>Afghanistan</td>\n",
       "      <td>1367.0</td>\n",
       "    </tr>\n",
       "    <tr>\n",
       "      <th>2021-02-26</th>\n",
       "      <td>Afghanistan</td>\n",
       "      <td>1367.0</td>\n",
       "    </tr>\n",
       "    <tr>\n",
       "      <th>...</th>\n",
       "      <td>...</td>\n",
       "      <td>...</td>\n",
       "    </tr>\n",
       "    <tr>\n",
       "      <th>2022-03-25</th>\n",
       "      <td>Zimbabwe</td>\n",
       "      <td>69579.0</td>\n",
       "    </tr>\n",
       "    <tr>\n",
       "      <th>2022-03-26</th>\n",
       "      <td>Zimbabwe</td>\n",
       "      <td>83429.0</td>\n",
       "    </tr>\n",
       "    <tr>\n",
       "      <th>2022-03-27</th>\n",
       "      <td>Zimbabwe</td>\n",
       "      <td>90629.0</td>\n",
       "    </tr>\n",
       "    <tr>\n",
       "      <th>2022-03-28</th>\n",
       "      <td>Zimbabwe</td>\n",
       "      <td>100614.0</td>\n",
       "    </tr>\n",
       "    <tr>\n",
       "      <th>2022-03-29</th>\n",
       "      <td>Zimbabwe</td>\n",
       "      <td>103751.0</td>\n",
       "    </tr>\n",
       "  </tbody>\n",
       "</table>\n",
       "<p>84740 rows × 2 columns</p>\n",
       "</div>"
      ],
      "text/plain": [
       "                country  daily_vaccinations\n",
       "date                                       \n",
       "2021-02-22  Afghanistan                 NaN\n",
       "2021-02-23  Afghanistan              1367.0\n",
       "2021-02-24  Afghanistan              1367.0\n",
       "2021-02-25  Afghanistan              1367.0\n",
       "2021-02-26  Afghanistan              1367.0\n",
       "...                 ...                 ...\n",
       "2022-03-25     Zimbabwe             69579.0\n",
       "2022-03-26     Zimbabwe             83429.0\n",
       "2022-03-27     Zimbabwe             90629.0\n",
       "2022-03-28     Zimbabwe            100614.0\n",
       "2022-03-29     Zimbabwe            103751.0\n",
       "\n",
       "[84740 rows x 2 columns]"
      ]
     },
     "execution_count": 25,
     "metadata": {},
     "output_type": "execute_result"
    }
   ],
   "source": [
    "#Further creating a dataset to work with desired data\n",
    "df2 = df1[['country','daily_vaccinations']]\n",
    "df2"
   ]
  },
  {
   "cell_type": "code",
   "execution_count": 26,
   "id": "1723fc0c",
   "metadata": {},
   "outputs": [
    {
     "data": {
      "text/plain": [
       "country\n",
       "China            3.250342e+09\n",
       "India            1.829085e+09\n",
       "United States    5.601116e+08\n",
       "Brazil           4.113785e+08\n",
       "Indonesia        3.732136e+08\n",
       "Japan            2.517397e+08\n",
       "Bangladesh       2.328454e+08\n",
       "Pakistan         2.177450e+08\n",
       "Vietnam          2.018161e+08\n",
       "Mexico           1.901756e+08\n",
       "Name: daily_vaccinations, dtype: float64"
      ]
     },
     "execution_count": 26,
     "metadata": {},
     "output_type": "execute_result"
    }
   ],
   "source": [
    "#Total vaccinations in the countries(Top 10)\n",
    "df3= df2.groupby(\"country\")[\"daily_vaccinations\"].sum().nlargest(10)\n",
    "df3"
   ]
  },
  {
   "cell_type": "code",
   "execution_count": 29,
   "id": "de1d7641",
   "metadata": {},
   "outputs": [
    {
     "data": {
      "image/png": "[encoded data removed]",
      "text/plain": [
       "<Figure size 1080x432 with 1 Axes>"
      ]
     },
     "metadata": {
      "needs_background": "light"
     },
     "output_type": "display_data"
    }
   ],
   "source": [
    "plt.figure(figsize=(15,6))\n",
    "df3.plot(x = \"country\", kind = 'bar',color = 'b', alpha = 0.75)\n",
    "plt.ylabel(\"Total vaccinations\")\n",
    "plt.xlabel(\"Country\")\n",
    "plt.show()"
   ]
  },
  {
   "cell_type": "code",
   "execution_count": 30,
   "id": "5a35a031",
   "metadata": {},
   "outputs": [
    {
     "data": {
      "text/plain": [
       "country\n",
       "Falkland Islands                   21185.393939\n",
       "Saint Helena                       13915.164835\n",
       "Tokelau                            12718.106195\n",
       "Pitcairn                           10891.797619\n",
       "Niue                               10109.509434\n",
       "Cuba                                9955.943333\n",
       "Gibraltar                           8000.463470\n",
       "Bonaire Sint Eustatius and Saba     7412.000000\n",
       "Bhutan                              7241.676880\n",
       "Brunei                              6906.782857\n",
       "Name: daily_vaccinations_per_million, dtype: float64"
      ]
     },
     "execution_count": 30,
     "metadata": {},
     "output_type": "execute_result"
    }
   ],
   "source": [
    "df3 = df1.groupby('country')[\"daily_vaccinations_per_million\"].mean().nlargest(10)\n",
    "df3"
   ]
  },
  {
   "cell_type": "code",
   "execution_count": 31,
   "id": "2d6aa0d0",
   "metadata": {},
   "outputs": [
    {
     "data": {
      "image/png": "[encoded data removed]",
      "text/plain": [
       "<Figure size 1080x432 with 1 Axes>"
      ]
     },
     "metadata": {
      "needs_background": "light"
     },
     "output_type": "display_data"
    }
   ],
   "source": [
    "plt.figure(figsize=(15,6))\n",
    "df3.plot(x = \"country\", kind = 'bar', color = \"c\", alpha =0.75)\n",
    "plt.ylabel(\"Average daily vaccinations per million\")\n",
    "plt.xlabel(\"Country\")\n",
    "plt.show()"
   ]
  },
  {
   "cell_type": "code",
   "execution_count": 32,
   "id": "a60d2597",
   "metadata": {},
   "outputs": [
    {
     "data": {
      "text/plain": [
       "country\n",
       "Burundi                           6.586667\n",
       "Democratic Republic of Congo     30.341176\n",
       "Yemen                            83.797428\n",
       "Haiti                            86.112000\n",
       "Chad                             87.135231\n",
       "South Sudan                     142.363636\n",
       "Madagascar                      145.216561\n",
       "Cameroon                        158.930233\n",
       "Papua New Guinea                172.804408\n",
       "Mali                            246.352778\n",
       "Name: daily_vaccinations_per_million, dtype: float64"
      ]
     },
     "execution_count": 32,
     "metadata": {},
     "output_type": "execute_result"
    }
   ],
   "source": [
    "df3 = df1.groupby('country')[\"daily_vaccinations_per_million\"].mean().nsmallest(10)\n",
    "df3"
   ]
  },
  {
   "cell_type": "code",
   "execution_count": 33,
   "id": "d3940411",
   "metadata": {},
   "outputs": [
    {
     "data": {
      "text/plain": [
       "Text(0.5, 0, 'Country')"
      ]
     },
     "execution_count": 33,
     "metadata": {},
     "output_type": "execute_result"
    },
    {
     "data": {
      "image/png": "[encoded data removed]",
      "text/plain": [
       "<Figure size 1080x432 with 1 Axes>"
      ]
     },
     "metadata": {
      "needs_background": "light"
     },
     "output_type": "display_data"
    }
   ],
   "source": [
    "plt.figure(figsize=(15,6))\n",
    "df3.plot(x = \"country\", kind = 'bar', color = \"m\", alpha =0.75)\n",
    "plt.ylabel(\"Average daily vaccinations per million\")\n",
    "plt.xlabel(\"Country\")"
   ]
  },
  {
   "cell_type": "code",
   "execution_count": 34,
   "id": "49ef1b24",
   "metadata": {},
   "outputs": [
    {
     "data": {
      "text/plain": [
       "country\n",
       "China            1.240777e+09\n",
       "India            8.282295e+08\n",
       "United States    2.174990e+08\n",
       "Brazil           1.602729e+08\n",
       "Indonesia        1.588305e+08\n",
       "Bangladesh       1.077127e+08\n",
       "Pakistan         1.018812e+08\n",
       "Japan            1.006337e+08\n",
       "Mexico           7.971176e+07\n",
       "Vietnam          7.775411e+07\n",
       "Name: people_fully_vaccinated, dtype: float64"
      ]
     },
     "execution_count": 34,
     "metadata": {},
     "output_type": "execute_result"
    }
   ],
   "source": [
    "df3 = df.groupby('country')[\"people_fully_vaccinated\"].max().nlargest(10)\n",
    "df3"
   ]
  },
  {
   "cell_type": "code",
   "execution_count": 35,
   "id": "804b8b94",
   "metadata": {},
   "outputs": [
    {
     "data": {
      "text/plain": [
       "Text(0.5, 0, 'Country')"
      ]
     },
     "execution_count": 35,
     "metadata": {},
     "output_type": "execute_result"
    },
    {
     "data": {
      "image/png": "[encoded data removed]",
      "text/plain": [
       "<Figure size 1080x432 with 1 Axes>"
      ]
     },
     "metadata": {
      "needs_background": "light"
     },
     "output_type": "display_data"
    }
   ],
   "source": [
    "plt.figure(figsize=(15,6))\n",
    "df3.plot(x = \"country\", kind = 'bar', color = \"g\", alpha =0.75)\n",
    "plt.ylabel(\"People fully vaccinated\")\n",
    "plt.xlabel(\"Country\")"
   ]
  },
  {
   "cell_type": "code",
   "execution_count": 36,
   "id": "85702fc3",
   "metadata": {},
   "outputs": [
    {
     "data": {
      "text/plain": [
       "country\n",
       "Pitcairn               47.0\n",
       "Tokelau               968.0\n",
       "Niue                 1417.0\n",
       "Falkland Islands     1775.0\n",
       "Montserrat           1804.0\n",
       "Saint Helena         3531.0\n",
       "Tuvalu               5884.0\n",
       "Wallis and Futuna    6457.0\n",
       "Nauru                7674.0\n",
       "Anguilla             9624.0\n",
       "Name: people_fully_vaccinated, dtype: float64"
      ]
     },
     "execution_count": 36,
     "metadata": {},
     "output_type": "execute_result"
    }
   ],
   "source": [
    "df3 = df.groupby('country')[\"people_fully_vaccinated\"].max().nsmallest(10)\n",
    "df3"
   ]
  },
  {
   "cell_type": "code",
   "execution_count": 37,
   "id": "973d0b7c",
   "metadata": {},
   "outputs": [
    {
     "data": {
      "text/plain": [
       "Text(0, 0.5, 'Fully Vaccinated People')"
      ]
     },
     "execution_count": 37,
     "metadata": {},
     "output_type": "execute_result"
    },
    {
     "data": {
      "image/png": "[encoded data removed]",
      "text/plain": [
       "<Figure size 1080x432 with 1 Axes>"
      ]
     },
     "metadata": {
      "needs_background": "light"
     },
     "output_type": "display_data"
    }
   ],
   "source": [
    "#Trying seaborn for this visualization\n",
    "plt.figure(figsize=(15,6))\n",
    "sns.barplot(x = df3.values, y = df3.index, orient='h',palette='Blues_d')\n",
    "plt.xlabel(\"Country\")\n",
    "plt.ylabel(\"Fully Vaccinated People\")"
   ]
  },
  {
   "cell_type": "code",
   "execution_count": 38,
   "id": "22d328dc",
   "metadata": {},
   "outputs": [
    {
     "data": {
      "text/html": [
       "<div>\n",
       "<style scoped>\n",
       "    .dataframe tbody tr th:only-of-type {\n",
       "        vertical-align: middle;\n",
       "    }\n",
       "\n",
       "    .dataframe tbody tr th {\n",
       "        vertical-align: top;\n",
       "    }\n",
       "\n",
       "    .dataframe thead th {\n",
       "        text-align: right;\n",
       "    }\n",
       "</style>\n",
       "<table border=\"1\" class=\"dataframe\">\n",
       "  <thead>\n",
       "    <tr style=\"text-align: right;\">\n",
       "      <th></th>\n",
       "      <th>location</th>\n",
       "      <th>date</th>\n",
       "      <th>vaccine</th>\n",
       "      <th>total_vaccinations</th>\n",
       "    </tr>\n",
       "  </thead>\n",
       "  <tbody>\n",
       "    <tr>\n",
       "      <th>0</th>\n",
       "      <td>Argentina</td>\n",
       "      <td>2020-12-29</td>\n",
       "      <td>Moderna</td>\n",
       "      <td>2</td>\n",
       "    </tr>\n",
       "    <tr>\n",
       "      <th>1</th>\n",
       "      <td>Argentina</td>\n",
       "      <td>2020-12-29</td>\n",
       "      <td>Oxford/AstraZeneca</td>\n",
       "      <td>3</td>\n",
       "    </tr>\n",
       "    <tr>\n",
       "      <th>2</th>\n",
       "      <td>Argentina</td>\n",
       "      <td>2020-12-29</td>\n",
       "      <td>Sinopharm/Beijing</td>\n",
       "      <td>1</td>\n",
       "    </tr>\n",
       "    <tr>\n",
       "      <th>3</th>\n",
       "      <td>Argentina</td>\n",
       "      <td>2020-12-29</td>\n",
       "      <td>Sputnik V</td>\n",
       "      <td>20481</td>\n",
       "    </tr>\n",
       "    <tr>\n",
       "      <th>4</th>\n",
       "      <td>Argentina</td>\n",
       "      <td>2020-12-30</td>\n",
       "      <td>Moderna</td>\n",
       "      <td>2</td>\n",
       "    </tr>\n",
       "    <tr>\n",
       "      <th>5</th>\n",
       "      <td>Argentina</td>\n",
       "      <td>2020-12-30</td>\n",
       "      <td>Oxford/AstraZeneca</td>\n",
       "      <td>3</td>\n",
       "    </tr>\n",
       "    <tr>\n",
       "      <th>6</th>\n",
       "      <td>Argentina</td>\n",
       "      <td>2020-12-30</td>\n",
       "      <td>Sinopharm/Beijing</td>\n",
       "      <td>1</td>\n",
       "    </tr>\n",
       "    <tr>\n",
       "      <th>7</th>\n",
       "      <td>Argentina</td>\n",
       "      <td>2020-12-30</td>\n",
       "      <td>Sputnik V</td>\n",
       "      <td>40583</td>\n",
       "    </tr>\n",
       "    <tr>\n",
       "      <th>8</th>\n",
       "      <td>Argentina</td>\n",
       "      <td>2020-12-31</td>\n",
       "      <td>Moderna</td>\n",
       "      <td>2</td>\n",
       "    </tr>\n",
       "    <tr>\n",
       "      <th>9</th>\n",
       "      <td>Argentina</td>\n",
       "      <td>2020-12-31</td>\n",
       "      <td>Oxford/AstraZeneca</td>\n",
       "      <td>3</td>\n",
       "    </tr>\n",
       "  </tbody>\n",
       "</table>\n",
       "</div>"
      ],
      "text/plain": [
       "    location        date             vaccine  total_vaccinations\n",
       "0  Argentina  2020-12-29             Moderna                   2\n",
       "1  Argentina  2020-12-29  Oxford/AstraZeneca                   3\n",
       "2  Argentina  2020-12-29   Sinopharm/Beijing                   1\n",
       "3  Argentina  2020-12-29           Sputnik V               20481\n",
       "4  Argentina  2020-12-30             Moderna                   2\n",
       "5  Argentina  2020-12-30  Oxford/AstraZeneca                   3\n",
       "6  Argentina  2020-12-30   Sinopharm/Beijing                   1\n",
       "7  Argentina  2020-12-30           Sputnik V               40583\n",
       "8  Argentina  2020-12-31             Moderna                   2\n",
       "9  Argentina  2020-12-31  Oxford/AstraZeneca                   3"
      ]
     },
     "execution_count": 38,
     "metadata": {},
     "output_type": "execute_result"
    }
   ],
   "source": [
    "df4 = pd.read_csv('country_vaccinations_by_manufacturer.csv')\n",
    "df4.head(10)"
   ]
  },
  {
   "cell_type": "code",
   "execution_count": 39,
   "id": "78c2810b",
   "metadata": {},
   "outputs": [
    {
     "data": {
      "text/plain": [
       "array(['Argentina', 'Austria', 'Belgium', 'Bulgaria', 'Chile', 'Croatia',\n",
       "       'Cyprus', 'Czechia', 'Denmark', 'Ecuador', 'Estonia', 'Finland',\n",
       "       'France', 'Germany', 'Hong Kong', 'Hungary', 'Iceland', 'Ireland',\n",
       "       'Italy', 'Japan', 'Latvia', 'Liechtenstein', 'Lithuania',\n",
       "       'Luxembourg', 'Malta', 'Nepal', 'Netherlands', 'Norway', 'Peru',\n",
       "       'Poland', 'Portugal', 'Romania', 'Slovakia', 'Slovenia',\n",
       "       'South Africa', 'South Korea', 'Spain', 'Sweden', 'Switzerland',\n",
       "       'Ukraine', 'United States', 'Uruguay', 'European Union'],\n",
       "      dtype=object)"
      ]
     },
     "execution_count": 39,
     "metadata": {},
     "output_type": "execute_result"
    }
   ],
   "source": [
    "df4['location'].unique()"
   ]
  },
  {
   "cell_type": "code",
   "execution_count": 40,
   "id": "0b360acb",
   "metadata": {},
   "outputs": [
    {
     "data": {
      "text/plain": [
       "43"
      ]
     },
     "execution_count": 40,
     "metadata": {},
     "output_type": "execute_result"
    }
   ],
   "source": [
    "df4['location'].nunique()"
   ]
  },
  {
   "cell_type": "code",
   "execution_count": 41,
   "id": "c361cc28",
   "metadata": {},
   "outputs": [
    {
     "data": {
      "text/html": [
       "<div>\n",
       "<style scoped>\n",
       "    .dataframe tbody tr th:only-of-type {\n",
       "        vertical-align: middle;\n",
       "    }\n",
       "\n",
       "    .dataframe tbody tr th {\n",
       "        vertical-align: top;\n",
       "    }\n",
       "\n",
       "    .dataframe thead th {\n",
       "        text-align: right;\n",
       "    }\n",
       "</style>\n",
       "<table border=\"1\" class=\"dataframe\">\n",
       "  <thead>\n",
       "    <tr style=\"text-align: right;\">\n",
       "      <th></th>\n",
       "      <th>location</th>\n",
       "      <th>date</th>\n",
       "      <th>vaccine</th>\n",
       "      <th>total_vaccinations</th>\n",
       "    </tr>\n",
       "  </thead>\n",
       "  <tbody>\n",
       "    <tr>\n",
       "      <th>31501</th>\n",
       "      <td>European Union</td>\n",
       "      <td>2020-12-27</td>\n",
       "      <td>Covaxin</td>\n",
       "      <td>0</td>\n",
       "    </tr>\n",
       "    <tr>\n",
       "      <th>31502</th>\n",
       "      <td>European Union</td>\n",
       "      <td>2020-12-27</td>\n",
       "      <td>Johnson&amp;Johnson</td>\n",
       "      <td>0</td>\n",
       "    </tr>\n",
       "    <tr>\n",
       "      <th>31503</th>\n",
       "      <td>European Union</td>\n",
       "      <td>2020-12-27</td>\n",
       "      <td>Moderna</td>\n",
       "      <td>14</td>\n",
       "    </tr>\n",
       "    <tr>\n",
       "      <th>31504</th>\n",
       "      <td>European Union</td>\n",
       "      <td>2020-12-27</td>\n",
       "      <td>Novavax</td>\n",
       "      <td>0</td>\n",
       "    </tr>\n",
       "    <tr>\n",
       "      <th>31505</th>\n",
       "      <td>European Union</td>\n",
       "      <td>2020-12-27</td>\n",
       "      <td>Oxford/AstraZeneca</td>\n",
       "      <td>1</td>\n",
       "    </tr>\n",
       "    <tr>\n",
       "      <th>...</th>\n",
       "      <td>...</td>\n",
       "      <td>...</td>\n",
       "      <td>...</td>\n",
       "      <td>...</td>\n",
       "    </tr>\n",
       "    <tr>\n",
       "      <th>35618</th>\n",
       "      <td>European Union</td>\n",
       "      <td>2022-03-29</td>\n",
       "      <td>Oxford/AstraZeneca</td>\n",
       "      <td>67403106</td>\n",
       "    </tr>\n",
       "    <tr>\n",
       "      <th>35619</th>\n",
       "      <td>European Union</td>\n",
       "      <td>2022-03-29</td>\n",
       "      <td>Pfizer/BioNTech</td>\n",
       "      <td>600519998</td>\n",
       "    </tr>\n",
       "    <tr>\n",
       "      <th>35620</th>\n",
       "      <td>European Union</td>\n",
       "      <td>2022-03-29</td>\n",
       "      <td>Sinopharm/Beijing</td>\n",
       "      <td>2301516</td>\n",
       "    </tr>\n",
       "    <tr>\n",
       "      <th>35621</th>\n",
       "      <td>European Union</td>\n",
       "      <td>2022-03-29</td>\n",
       "      <td>Sinovac</td>\n",
       "      <td>1809</td>\n",
       "    </tr>\n",
       "    <tr>\n",
       "      <th>35622</th>\n",
       "      <td>European Union</td>\n",
       "      <td>2022-03-29</td>\n",
       "      <td>Sputnik V</td>\n",
       "      <td>1845103</td>\n",
       "    </tr>\n",
       "  </tbody>\n",
       "</table>\n",
       "<p>4122 rows × 4 columns</p>\n",
       "</div>"
      ],
      "text/plain": [
       "             location        date             vaccine  total_vaccinations\n",
       "31501  European Union  2020-12-27             Covaxin                   0\n",
       "31502  European Union  2020-12-27     Johnson&Johnson                   0\n",
       "31503  European Union  2020-12-27             Moderna                  14\n",
       "31504  European Union  2020-12-27             Novavax                   0\n",
       "31505  European Union  2020-12-27  Oxford/AstraZeneca                   1\n",
       "...               ...         ...                 ...                 ...\n",
       "35618  European Union  2022-03-29  Oxford/AstraZeneca            67403106\n",
       "35619  European Union  2022-03-29     Pfizer/BioNTech           600519998\n",
       "35620  European Union  2022-03-29   Sinopharm/Beijing             2301516\n",
       "35621  European Union  2022-03-29             Sinovac                1809\n",
       "35622  European Union  2022-03-29           Sputnik V             1845103\n",
       "\n",
       "[4122 rows x 4 columns]"
      ]
     },
     "execution_count": 41,
     "metadata": {},
     "output_type": "execute_result"
    }
   ],
   "source": [
    "df_EU = df4[df4['location']=='European Union']\n",
    "df_EU"
   ]
  },
  {
   "cell_type": "code",
   "execution_count": 42,
   "id": "155d7e93",
   "metadata": {},
   "outputs": [
    {
     "data": {
      "text/plain": [
       "Text(0, 0.5, 'Total number of vaccinations')"
      ]
     },
     "execution_count": 42,
     "metadata": {},
     "output_type": "execute_result"
    },
    {
     "data": {
      "image/png": "[encoded data removed]",
      "text/plain": [
       "<Figure size 720x432 with 1 Axes>"
      ]
     },
     "metadata": {
      "needs_background": "light"
     },
     "output_type": "display_data"
    }
   ],
   "source": [
    "df_EU.plot(x = 'vaccine', y = 'total_vaccinations', kind ='scatter',figsize = (10,6) )\n",
    "plt.xlabel('Vaccination name', fontsize = 15, loc = 'center', labelpad = 10)\n",
    "plt.ylabel('Total number of vaccinations', fontsize = 15,loc = 'center', labelpad = 10)"
   ]
  },
  {
   "cell_type": "code",
   "execution_count": null,
   "id": "3ac0e573",
   "metadata": {},
   "outputs": [],
   "source": []
  }
 ],
 "metadata": {
  "kernelspec": {
   "display_name": "Python 3 (ipykernel)",
   "language": "python",
   "name": "python3"
  },
  "language_info": {
   "codemirror_mode": {
    "name": "ipython",
    "version": 3
   },
   "file_extension": ".py",
   "mimetype": "text/x-python",
   "name": "python",
   "nbconvert_exporter": "python",
   "pygments_lexer": "ipython3",
   "version": "3.9.7"
  }
 },
 "nbformat": 4,
 "nbformat_minor": 5
}
